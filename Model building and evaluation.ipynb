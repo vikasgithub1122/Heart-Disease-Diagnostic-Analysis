{
 "cells": [
  {
   "cell_type": "code",
   "execution_count": 1,
   "id": "86a94822-3b4c-4590-bbad-801db35867ed",
   "metadata": {},
   "outputs": [],
   "source": [
    "import pandas as pd\n",
    "import numpy as np\n",
    "from sklearn.model_selection import train_test_split, cross_val_score\n",
    "from sklearn.preprocessing import StandardScaler\n",
    "from sklearn.linear_model import LogisticRegression\n",
    "from sklearn.tree import DecisionTreeClassifier\n",
    "from sklearn.ensemble import RandomForestClassifier\n",
    "from sklearn.svm import SVC\n",
    "from sklearn.metrics import accuracy_score, classification_report, confusion_matrix\n",
    "import matplotlib.pyplot as plt\n",
    "import seaborn as sns"
   ]
  },
  {
   "cell_type": "code",
   "execution_count": 2,
   "id": "4db64a28-c778-4a47-9fde-a51a98681478",
   "metadata": {},
   "outputs": [],
   "source": [
    "# Load the processed data\n",
    "data = pd.read_csv('heart_disease_processed.csv')"
   ]
  },
  {
   "cell_type": "code",
   "execution_count": 3,
   "id": "32188552-ae00-4e59-a518-93f86685cb70",
   "metadata": {},
   "outputs": [],
   "source": [
    "# Separate features and target\n",
    "X = data.drop('target', axis=1)\n",
    "y = data['target']"
   ]
  },
  {
   "cell_type": "code",
   "execution_count": 4,
   "id": "48e1d9e6-d8f3-4d9b-906c-18c524a2f49f",
   "metadata": {},
   "outputs": [],
   "source": [
    "# Split the data\n",
    "X_train, X_test, y_train, y_test = train_test_split(X, y, test_size=0.2, random_state=42)"
   ]
  },
  {
   "cell_type": "code",
   "execution_count": 5,
   "id": "bb5653a8-9e72-42f8-9c15-4b2d84e76344",
   "metadata": {},
   "outputs": [],
   "source": [
    "# Initialize models\n",
    "models = {\n",
    "    'Logistic Regression': LogisticRegression(),\n",
    "    'Decision Tree': DecisionTreeClassifier(random_state=42),\n",
    "    'Random Forest': RandomForestClassifier(random_state=42),\n",
    "    'SVM': SVC(random_state=42)\n",
    "}"
   ]
  },
  {
   "cell_type": "code",
   "execution_count": 6,
   "id": "a161d3ea-10a3-46e9-af10-2c9006db5274",
   "metadata": {},
   "outputs": [
    {
     "name": "stdout",
     "output_type": "stream",
     "text": [
      "\n",
      "Logistic Regression:\n",
      "Accuracy: 0.8195\n",
      "Cross-validation mean accuracy: 0.8585 (+/- 0.0545)\n",
      "\n",
      "Classification Report:\n",
      "              precision    recall  f1-score   support\n",
      "\n",
      "         0.0       0.87      0.75      0.80       102\n",
      "         1.0       0.78      0.89      0.83       103\n",
      "\n",
      "    accuracy                           0.82       205\n",
      "   macro avg       0.83      0.82      0.82       205\n",
      "weighted avg       0.83      0.82      0.82       205\n",
      "\n",
      "\n",
      "Decision Tree:\n",
      "Accuracy: 0.9854\n",
      "Cross-validation mean accuracy: 0.9912 (+/- 0.0143)\n",
      "\n",
      "Classification Report:\n",
      "              precision    recall  f1-score   support\n",
      "\n",
      "         0.0       0.97      1.00      0.99       102\n",
      "         1.0       1.00      0.97      0.99       103\n",
      "\n",
      "    accuracy                           0.99       205\n",
      "   macro avg       0.99      0.99      0.99       205\n",
      "weighted avg       0.99      0.99      0.99       205\n",
      "\n",
      "\n",
      "Random Forest:\n",
      "Accuracy: 0.9854\n",
      "Cross-validation mean accuracy: 0.9971 (+/- 0.0117)\n",
      "\n",
      "Classification Report:\n",
      "              precision    recall  f1-score   support\n",
      "\n",
      "         0.0       0.97      1.00      0.99       102\n",
      "         1.0       1.00      0.97      0.99       103\n",
      "\n",
      "    accuracy                           0.99       205\n",
      "   macro avg       0.99      0.99      0.99       205\n",
      "weighted avg       0.99      0.99      0.99       205\n",
      "\n",
      "\n",
      "SVM:\n",
      "Accuracy: 0.8829\n",
      "Cross-validation mean accuracy: 0.9239 (+/- 0.0500)\n",
      "\n",
      "Classification Report:\n",
      "              precision    recall  f1-score   support\n",
      "\n",
      "         0.0       0.94      0.81      0.87       102\n",
      "         1.0       0.84      0.95      0.89       103\n",
      "\n",
      "    accuracy                           0.88       205\n",
      "   macro avg       0.89      0.88      0.88       205\n",
      "weighted avg       0.89      0.88      0.88       205\n",
      "\n"
     ]
    }
   ],
   "source": [
    "# Train and evaluate models\n",
    "results = {}\n",
    "for name, model in models.items():\n",
    "    # Train the model\n",
    "    model.fit(X_train, y_train)\n",
    "    \n",
    "    # Make predictions\n",
    "    y_pred = model.predict(X_test)\n",
    "    \n",
    "    # Calculate accuracy\n",
    "    accuracy = accuracy_score(y_test, y_pred)\n",
    "    \n",
    "    # Perform cross-validation\n",
    "    cv_scores = cross_val_score(model, X, y, cv=5)\n",
    "    \n",
    "    # Store results\n",
    "    results[name] = {\n",
    "        'Accuracy': accuracy,\n",
    "        'CV Mean': cv_scores.mean(),\n",
    "        'CV Std': cv_scores.std()\n",
    "    }\n",
    "    \n",
    "    # Print results\n",
    "    print(f\"\\n{name}:\")\n",
    "    print(f\"Accuracy: {accuracy:.4f}\")\n",
    "    print(f\"Cross-validation mean accuracy: {cv_scores.mean():.4f} (+/- {cv_scores.std() * 2:.4f})\")\n",
    "    print(\"\\nClassification Report:\")\n",
    "    print(classification_report(y_test, y_pred))\n",
    "    \n",
    "    # Plot confusion matrix\n",
    "    cm = confusion_matrix(y_test, y_pred)\n",
    "    plt.figure(figsize=(8, 6))\n",
    "    sns.heatmap(cm, annot=True, fmt='d', cmap='Blues')\n",
    "    plt.title(f'Confusion Matrix - {name}')\n",
    "    plt.ylabel('True label')\n",
    "    plt.xlabel('Predicted label')\n",
    "    plt.savefig(f'confusion_matrix_{name.replace(\" \", \"_\").lower()}.png')\n",
    "    plt.close()"
   ]
  },
  {
   "cell_type": "code",
   "execution_count": 7,
   "id": "43f65a97-3e0c-4768-a5b1-39685ba21f92",
   "metadata": {},
   "outputs": [
    {
     "name": "stdout",
     "output_type": "stream",
     "text": [
      "\n",
      "Model Comparison:\n",
      "                     Accuracy   CV Mean    CV Std\n",
      "Logistic Regression  0.819512  0.858537  0.027247\n",
      "Decision Tree        0.985366  0.991220  0.007169\n",
      "Random Forest        0.985366  0.997073  0.005854\n",
      "SVM                  0.882927  0.923902  0.024988\n"
     ]
    }
   ],
   "source": [
    "# Compare model performances\n",
    "results_df = pd.DataFrame(results).T\n",
    "print(\"\\nModel Comparison:\")\n",
    "print(results_df)"
   ]
  },
  {
   "cell_type": "code",
   "execution_count": 8,
   "id": "a3e70258-a274-454d-9b37-0e316d469f14",
   "metadata": {},
   "outputs": [
    {
     "data": {
      "text/plain": [
       "<Figure size 1000x600 with 0 Axes>"
      ]
     },
     "metadata": {},
     "output_type": "display_data"
    }
   ],
   "source": [
    "# Visualize model comparison\n",
    "plt.figure(figsize=(10, 6))\n",
    "results_df[['Accuracy', 'CV Mean']].plot(kind='bar', yerr=results_df['CV Std'])\n",
    "plt.title('Model Comparison')\n",
    "plt.ylabel('Accuracy')\n",
    "plt.ylim(0, 1)\n",
    "plt.legend(loc='lower right')\n",
    "plt.tight_layout()\n",
    "plt.savefig('model_comparison.png')\n",
    "plt.close()"
   ]
  },
  {
   "cell_type": "code",
   "execution_count": 9,
   "id": "67a0d167-05f7-4ffe-91c9-6ef2c6bc5b25",
   "metadata": {},
   "outputs": [],
   "source": [
    "# Identify the best model\n",
    "best_model_name = results_df['CV Mean'].idxmax()\n",
    "best_model = models[best_model_name]"
   ]
  },
  {
   "cell_type": "code",
   "execution_count": 10,
   "id": "327027a1-cd82-438c-b44d-d307febd1ef2",
   "metadata": {},
   "outputs": [
    {
     "name": "stdout",
     "output_type": "stream",
     "text": [
      "\n",
      "Best performing model: Random Forest\n",
      "Cross-validation mean accuracy: 0.9971\n"
     ]
    }
   ],
   "source": [
    "print(f\"\\nBest performing model: {best_model_name}\")\n",
    "print(f\"Cross-validation mean accuracy: {results_df.loc[best_model_name, 'CV Mean']:.4f}\")"
   ]
  },
  {
   "cell_type": "code",
   "execution_count": 13,
   "id": "64e01e26-b5e6-4cc2-b1f9-5ac8cfc7183b",
   "metadata": {},
   "outputs": [
    {
     "name": "stdout",
     "output_type": "stream",
     "text": [
      "\n",
      "Top 5 important features:\n",
      "     feature  importance\n",
      "7     cp_0.0    0.098913\n",
      "4    oldpeak    0.095042\n",
      "3    thalach    0.092834\n",
      "21    ca_0.0    0.083042\n",
      "28  thal_2.0    0.082802\n"
     ]
    }
   ],
   "source": [
    "# Feature importance for the best model (if applicable)\n",
    "if hasattr(best_model, 'feature_importances_'):\n",
    "    feature_importance = pd.DataFrame({\n",
    "        'feature': X.columns,\n",
    "        'importance': best_model.feature_importances_\n",
    "    }).sort_values('importance', ascending=False)\n",
    "    \n",
    "    plt.figure(figsize=(10, 6))\n",
    "    sns.barplot(x='importance', y='feature', data=feature_importance.head(10))\n",
    "    plt.title(f'Top 10 Important Features - {best_model_name}')\n",
    "    plt.tight_layout()\n",
    "    plt.savefig('feature_importance_best_model.png')\n",
    "    plt.close()\n",
    "    \n",
    "    print(\"\\nTop 5 important features:\")\n",
    "    print(feature_importance.head())\n",
    "elif best_model_name == 'Logistic Regression':\n",
    "    feature_importance = pd.DataFrame({\n",
    "        'feature': X.columns,\n",
    "        'importance': abs(best_model.coef_[0])\n",
    "    }).sort_values('importance', ascending=False)\n",
    "    \n",
    "    plt.figure(figsize=(10, 6))\n",
    "    sns.barplot(x='importance', y='feature', data=feature_importance.head(10))\n",
    "    plt.title(f'Top 10 Important Features - {best_model_name}')\n",
    "    plt.tight_layout()\n",
    "    plt.savefig('feature_importance_best_model.png')\n",
    "    plt.close()\n",
    "    \n",
    "    print(\"\\nTop 5 important features:\")\n",
    "    print(feature_importance.head())"
   ]
  },
  {
   "cell_type": "code",
   "execution_count": null,
   "id": "aa84809f-110c-4020-9814-af6b3e94c0eb",
   "metadata": {},
   "outputs": [],
   "source": []
  },
  {
   "cell_type": "code",
   "execution_count": null,
   "id": "cd7cd526-70db-48f4-9952-52a5605b7570",
   "metadata": {},
   "outputs": [],
   "source": []
  }
 ],
 "metadata": {
  "kernelspec": {
   "display_name": "Python 3 (ipykernel)",
   "language": "python",
   "name": "python3"
  },
  "language_info": {
   "codemirror_mode": {
    "name": "ipython",
    "version": 3
   },
   "file_extension": ".py",
   "mimetype": "text/x-python",
   "name": "python",
   "nbconvert_exporter": "python",
   "pygments_lexer": "ipython3",
   "version": "3.11.7"
  }
 },
 "nbformat": 4,
 "nbformat_minor": 5
}
