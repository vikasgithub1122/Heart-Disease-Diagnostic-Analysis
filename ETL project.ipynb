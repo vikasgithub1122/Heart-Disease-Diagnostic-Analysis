{
 "cells": [
  {
   "cell_type": "code",
   "execution_count": 1,
   "id": "92f6a7fe-1f17-4446-8744-2f23472aa9d2",
   "metadata": {},
   "outputs": [],
   "source": [
    "import pandas as pd\n",
    "import numpy as np\n",
    "from sklearn.impute import SimpleImputer\n",
    "from sklearn.preprocessing import StandardScaler"
   ]
  },
  {
   "cell_type": "code",
   "execution_count": 7,
   "id": "f057a558-a9a5-4db5-860c-3a8b4e9b0f73",
   "metadata": {},
   "outputs": [],
   "source": [
    "# Extract\n",
    "def extract_data(file_path):\n",
    "    data = pd.read_csv(file_path, na_values='?')\n",
    "    print(\"Data extracted. Shape:\", data.shape)\n",
    "    return data"
   ]
  },
  {
   "cell_type": "code",
   "execution_count": 8,
   "id": "101f7d93-ca72-4f7c-8d7a-eba6cdcb510a",
   "metadata": {},
   "outputs": [],
   "source": [
    "def transform_data(data):\n",
    "    # Handle missing values\n",
    "    imputer = SimpleImputer(strategy='median')\n",
    "    data_imputed = pd.DataFrame(imputer.fit_transform(data), columns=data.columns)\n",
    "    \n",
    "    # Convert categorical variables\n",
    "    categorical_cols = ['sex', 'cp', 'fbs', 'restecg', 'exang', 'slope', 'ca', 'thal']\n",
    "    data_encoded = pd.get_dummies(data_imputed, columns=categorical_cols)\n",
    "    \n",
    "    # Scale numerical features\n",
    "    numerical_cols = ['age', 'trestbps', 'chol', 'thalach', 'oldpeak']\n",
    "    scaler = StandardScaler()\n",
    "    data_encoded[numerical_cols] = scaler.fit_transform(data_encoded[numerical_cols])\n",
    "    \n",
    "    print(\"Data transformed. Shape:\", data_encoded.shape)\n",
    "    return data_encoded"
   ]
  },
  {
   "cell_type": "code",
   "execution_count": 9,
   "id": "3b46a03c-d21a-4c4a-b945-6ba6bb41640d",
   "metadata": {},
   "outputs": [],
   "source": [
    "# Load\n",
    "def load_data(data, output_file):\n",
    "    data.to_csv(output_file, index=False)\n",
    "    print(f\"Data loaded to {output_file}\")"
   ]
  },
  {
   "cell_type": "code",
   "execution_count": 10,
   "id": "b0db6b75-8fd0-4cfe-9c61-a7a091401cd1",
   "metadata": {},
   "outputs": [],
   "source": [
    "# ETL Pipeline\n",
    "def etl_pipeline(input_file, output_file):\n",
    "    raw_data = extract_data(input_file)\n",
    "    transformed_data = transform_data(raw_data)\n",
    "    load_data(transformed_data, output_file)\n",
    "    return transformed_data"
   ]
  },
  {
   "cell_type": "code",
   "execution_count": 13,
   "id": "4a08040b-4b55-4738-9405-db23c9004e73",
   "metadata": {},
   "outputs": [
    {
     "name": "stdout",
     "output_type": "stream",
     "text": [
      "Data extracted. Shape: (1025, 14)\n",
      "Data transformed. Shape: (1025, 31)\n",
      "Data loaded to heart_disease_processed.csv\n",
      "\n",
      "ETL Process Completed\n",
      "Processed Data Info:\n",
      "<class 'pandas.core.frame.DataFrame'>\n",
      "RangeIndex: 1025 entries, 0 to 1024\n",
      "Data columns (total 31 columns):\n",
      " #   Column       Non-Null Count  Dtype  \n",
      "---  ------       --------------  -----  \n",
      " 0   age          1025 non-null   float64\n",
      " 1   trestbps     1025 non-null   float64\n",
      " 2   chol         1025 non-null   float64\n",
      " 3   thalach      1025 non-null   float64\n",
      " 4   oldpeak      1025 non-null   float64\n",
      " 5   target       1025 non-null   float64\n",
      " 6   sex_0.0      1025 non-null   bool   \n",
      " 7   sex_1.0      1025 non-null   bool   \n",
      " 8   cp_0.0       1025 non-null   bool   \n",
      " 9   cp_1.0       1025 non-null   bool   \n",
      " 10  cp_2.0       1025 non-null   bool   \n",
      " 11  cp_3.0       1025 non-null   bool   \n",
      " 12  fbs_0.0      1025 non-null   bool   \n",
      " 13  fbs_1.0      1025 non-null   bool   \n",
      " 14  restecg_0.0  1025 non-null   bool   \n",
      " 15  restecg_1.0  1025 non-null   bool   \n",
      " 16  restecg_2.0  1025 non-null   bool   \n",
      " 17  exang_0.0    1025 non-null   bool   \n",
      " 18  exang_1.0    1025 non-null   bool   \n",
      " 19  slope_0.0    1025 non-null   bool   \n",
      " 20  slope_1.0    1025 non-null   bool   \n",
      " 21  slope_2.0    1025 non-null   bool   \n",
      " 22  ca_0.0       1025 non-null   bool   \n",
      " 23  ca_1.0       1025 non-null   bool   \n",
      " 24  ca_2.0       1025 non-null   bool   \n",
      " 25  ca_3.0       1025 non-null   bool   \n",
      " 26  ca_4.0       1025 non-null   bool   \n",
      " 27  thal_0.0     1025 non-null   bool   \n",
      " 28  thal_1.0     1025 non-null   bool   \n",
      " 29  thal_2.0     1025 non-null   bool   \n",
      " 30  thal_3.0     1025 non-null   bool   \n",
      "dtypes: bool(25), float64(6)\n",
      "memory usage: 73.2 KB\n",
      "None\n",
      "\n",
      "Processed Data Sample:\n",
      "        age  trestbps      chol   thalach   oldpeak  target  sex_0.0  sex_1.0  \\\n",
      "0 -0.268437 -0.377636 -0.659332  0.821321 -0.060888     0.0    False     True   \n",
      "1 -0.158157  0.479107 -0.833861  0.255968  1.727137     0.0    False     True   \n",
      "2  1.716595  0.764688 -1.396233 -1.048692  1.301417     0.0    False     True   \n",
      "3  0.724079  0.936037 -0.833861  0.516900 -0.912329     0.0    False     True   \n",
      "4  0.834359  0.364875  0.930822 -1.874977  0.705408     0.0     True    False   \n",
      "\n",
      "   cp_0.0  cp_1.0  ...  slope_2.0  ca_0.0  ca_1.0  ca_2.0  ca_3.0  ca_4.0  \\\n",
      "0    True   False  ...       True   False   False    True   False   False   \n",
      "1    True   False  ...      False    True   False   False   False   False   \n",
      "2    True   False  ...      False    True   False   False   False   False   \n",
      "3    True   False  ...       True   False    True   False   False   False   \n",
      "4    True   False  ...      False   False   False   False    True   False   \n",
      "\n",
      "   thal_0.0  thal_1.0  thal_2.0  thal_3.0  \n",
      "0     False     False     False      True  \n",
      "1     False     False     False      True  \n",
      "2     False     False     False      True  \n",
      "3     False     False     False      True  \n",
      "4     False     False      True     False  \n",
      "\n",
      "[5 rows x 31 columns]\n"
     ]
    }
   ],
   "source": [
    "# Run ETL\n",
    "input_file = 'Heart Disease data.csv'\n",
    "output_file = 'heart_disease_processed.csv'\n",
    "processed_data = etl_pipeline(input_file, output_file)\n",
    "\n",
    "print(\"\\nETL Process Completed\")\n",
    "print(\"Processed Data Info:\")\n",
    "print(processed_data.info())\n",
    "print(\"\\nProcessed Data Sample:\")\n",
    "print(processed_data.head())"
   ]
  },
  {
   "cell_type": "code",
   "execution_count": null,
   "id": "b8684302-265f-458e-ad88-cd4d32b6e254",
   "metadata": {},
   "outputs": [],
   "source": []
  }
 ],
 "metadata": {
  "kernelspec": {
   "display_name": "Python 3 (ipykernel)",
   "language": "python",
   "name": "python3"
  },
  "language_info": {
   "codemirror_mode": {
    "name": "ipython",
    "version": 3
   },
   "file_extension": ".py",
   "mimetype": "text/x-python",
   "name": "python",
   "nbconvert_exporter": "python",
   "pygments_lexer": "ipython3",
   "version": "3.11.7"
  }
 },
 "nbformat": 4,
 "nbformat_minor": 5
}
