{
 "cells": [
  {
   "cell_type": "code",
   "execution_count": 1,
   "id": "f0568292-6666-479f-955b-5edeb59957a7",
   "metadata": {},
   "outputs": [],
   "source": [
    "import pandas as pd\n",
    "import numpy as np\n",
    "import matplotlib.pyplot as plt\n",
    "import seaborn as sns\n",
    "from scipy import stats"
   ]
  },
  {
   "cell_type": "code",
   "execution_count": 2,
   "id": "12c7f716-da24-4736-8845-eeee4a3d7427",
   "metadata": {},
   "outputs": [],
   "source": [
    "# Load the processed data\n",
    "data = pd.read_csv('heart_disease_processed.csv')"
   ]
  },
  {
   "cell_type": "code",
   "execution_count": 3,
   "id": "b7aa3615-177a-48bb-adc4-aaf713bfeb8f",
   "metadata": {},
   "outputs": [
    {
     "name": "stdout",
     "output_type": "stream",
     "text": [
      "Basic Statistical Summary:\n",
      "                age      trestbps          chol       thalach       oldpeak  \\\n",
      "count  1.025000e+03  1.025000e+03  1.025000e+03  1.025000e+03  1.025000e+03   \n",
      "mean  -3.396741e-16 -7.070767e-16 -3.466062e-18 -4.297917e-16 -2.443574e-16   \n",
      "std    1.000488e+00  1.000488e+00  1.000488e+00  1.000488e+00  1.000488e+00   \n",
      "min   -2.804866e+00 -2.148237e+00 -2.327054e+00 -3.397080e+00 -9.123291e-01   \n",
      "25%   -7.095548e-01 -6.632165e-01 -6.787242e-01 -7.442713e-01 -9.123291e-01   \n",
      "50%    1.726817e-01 -9.205458e-02 -1.163527e-01  1.255019e-01 -2.311765e-01   \n",
      "75%    7.240794e-01  4.791073e-01  5.623715e-01  7.343432e-01  6.202642e-01   \n",
      "max    2.488552e+00  3.906079e+00  6.166694e+00  2.299935e+00  4.366603e+00   \n",
      "\n",
      "            target  \n",
      "count  1025.000000  \n",
      "mean      0.513171  \n",
      "std       0.500070  \n",
      "min       0.000000  \n",
      "25%       0.000000  \n",
      "50%       1.000000  \n",
      "75%       1.000000  \n",
      "max       1.000000  \n"
     ]
    }
   ],
   "source": [
    "# Basic statistical summary\n",
    "print(\"Basic Statistical Summary:\")\n",
    "print(data.describe())"
   ]
  },
  {
   "cell_type": "code",
   "execution_count": 14,
   "id": "36ed451d-78a7-44a6-9ab2-5ad63ee428ad",
   "metadata": {},
   "outputs": [],
   "source": [
    "# Correlation analysis\n",
    "plt.figure(figsize=(20, 16))\n",
    "sns.heatmap(data.corr(), annot=True, cmap='coolwarm', linewidths=0.5)\n",
    "plt.title(\"Correlation Heatmap\")\n",
    "plt.tight_layout()\n",
    "plt.savefig('correlation_heatmap.png')\n",
    "plt.close()"
   ]
  },
  {
   "cell_type": "code",
   "execution_count": 5,
   "id": "bfd9e1fd-db61-4495-a883-286b1b9ebf49",
   "metadata": {},
   "outputs": [
    {
     "name": "stderr",
     "output_type": "stream",
     "text": [
      "C:\\Users\\Win-10\\anaconda3\\Lib\\site-packages\\seaborn\\_oldcore.py:1119: FutureWarning: use_inf_as_na option is deprecated and will be removed in a future version. Convert inf values to NaN before operating instead.\n",
      "  with pd.option_context('mode.use_inf_as_na', True):\n",
      "C:\\Users\\Win-10\\anaconda3\\Lib\\site-packages\\seaborn\\_oldcore.py:1119: FutureWarning: use_inf_as_na option is deprecated and will be removed in a future version. Convert inf values to NaN before operating instead.\n",
      "  with pd.option_context('mode.use_inf_as_na', True):\n",
      "C:\\Users\\Win-10\\anaconda3\\Lib\\site-packages\\seaborn\\_oldcore.py:1119: FutureWarning: use_inf_as_na option is deprecated and will be removed in a future version. Convert inf values to NaN before operating instead.\n",
      "  with pd.option_context('mode.use_inf_as_na', True):\n",
      "C:\\Users\\Win-10\\anaconda3\\Lib\\site-packages\\seaborn\\_oldcore.py:1119: FutureWarning: use_inf_as_na option is deprecated and will be removed in a future version. Convert inf values to NaN before operating instead.\n",
      "  with pd.option_context('mode.use_inf_as_na', True):\n",
      "C:\\Users\\Win-10\\anaconda3\\Lib\\site-packages\\seaborn\\_oldcore.py:1119: FutureWarning: use_inf_as_na option is deprecated and will be removed in a future version. Convert inf values to NaN before operating instead.\n",
      "  with pd.option_context('mode.use_inf_as_na', True):\n"
     ]
    }
   ],
   "source": [
    "# Distribution of numerical features\n",
    "numerical_cols = ['age', 'trestbps', 'chol', 'thalach', 'oldpeak']\n",
    "plt.figure(figsize=(15, 10))\n",
    "for i, col in enumerate(numerical_cols, 1):\n",
    "    plt.subplot(2, 3, i)\n",
    "    sns.histplot(data=data, x=col, kde=True)\n",
    "    plt.title(f'Distribution of {col}')\n",
    "plt.tight_layout()\n",
    "plt.savefig('numerical_distributions.png')\n",
    "plt.close()"
   ]
  },
  {
   "cell_type": "code",
   "execution_count": 6,
   "id": "dd416197-e669-4dc3-976e-45c39a487ca5",
   "metadata": {},
   "outputs": [],
   "source": [
    "# Target variable distribution\n",
    "plt.figure(figsize=(8, 6))\n",
    "data['target'].value_counts().plot(kind='bar')\n",
    "plt.title('Distribution of Target Variable')\n",
    "plt.xlabel('Heart Disease')\n",
    "plt.ylabel('Count')\n",
    "plt.xticks([0, 1], ['No', 'Yes'])\n",
    "plt.savefig('target_distribution.png')\n",
    "plt.close()"
   ]
  },
  {
   "cell_type": "code",
   "execution_count": 7,
   "id": "58ac2b80-c67e-4782-948c-a7a8adfadbe6",
   "metadata": {},
   "outputs": [],
   "source": [
    "# Relationship between age, cholesterol, and heart disease\n",
    "plt.figure(figsize=(10, 8))\n",
    "sns.scatterplot(data=data, x='age', y='chol', hue='target', style='target')\n",
    "plt.title('Age vs Cholesterol, colored by Heart Disease')\n",
    "plt.savefig('age_chol_scatter.png')\n",
    "plt.close()"
   ]
  },
  {
   "cell_type": "code",
   "execution_count": 8,
   "id": "25f34ba1-05ea-4511-8e4b-0264488885cc",
   "metadata": {},
   "outputs": [],
   "source": [
    "plt.figure(figsize=(15, 10))\n",
    "for i, col in enumerate(numerical_cols, 1):\n",
    "    plt.subplot(2, 3, i)\n",
    "    sns.boxplot(data=data, x='target', y=col)\n",
    "    plt.title(f'{col} by Heart Disease')\n",
    "plt.tight_layout()\n",
    "plt.savefig('boxplots_by_target.png')\n",
    "plt.close()"
   ]
  },
  {
   "cell_type": "code",
   "execution_count": 9,
   "id": "97f32eff-b895-428f-8aef-4593a81ed333",
   "metadata": {},
   "outputs": [],
   "source": [
    "# Feature importance using mutual information\n",
    "from sklearn.feature_selection import mutual_info_classif\n",
    "\n",
    "X = data.drop('target', axis=1)\n",
    "y = data['target']\n",
    "mi_scores = mutual_info_classif(X, y)\n",
    "mi_scores = pd.Series(mi_scores, name=\"MI Scores\", index=X.columns)\n",
    "mi_scores = mi_scores.sort_values(ascending=False)\n"
   ]
  },
  {
   "cell_type": "code",
   "execution_count": 10,
   "id": "7684800a-e32c-4950-bb9f-7d274e293ba8",
   "metadata": {},
   "outputs": [],
   "source": [
    "plt.figure(figsize=(10, 8))\n",
    "mi_scores.plot.bar()\n",
    "plt.title('Feature Importance based on Mutual Information')\n",
    "plt.xlabel('Features')\n",
    "plt.ylabel('Mutual Information Score')\n",
    "plt.tight_layout()\n",
    "plt.savefig('feature_importance.png')\n",
    "plt.close()"
   ]
  },
  {
   "cell_type": "code",
   "execution_count": 11,
   "id": "c0d16633-2ef3-490c-a8f1-693812a4abce",
   "metadata": {},
   "outputs": [
    {
     "name": "stdout",
     "output_type": "stream",
     "text": [
      "\n",
      "EDA Completed. Visualization files have been saved.\n",
      "\n",
      "Top 5 Important Features based on Mutual Information:\n",
      "chol       0.259706\n",
      "thalach    0.173722\n",
      "cp_0.0     0.129815\n",
      "oldpeak    0.125181\n",
      "ca_0.0     0.121016\n",
      "Name: MI Scores, dtype: float64\n"
     ]
    }
   ],
   "source": [
    "print(\"\\nEDA Completed. Visualization files have been saved.\")\n",
    "print(\"\\nTop 5 Important Features based on Mutual Information:\")\n",
    "print(mi_scores.head())"
   ]
  },
  {
   "cell_type": "code",
   "execution_count": 12,
   "id": "049799e9-07f2-4d96-9367-fad532cf007b",
   "metadata": {},
   "outputs": [
    {
     "name": "stdout",
     "output_type": "stream",
     "text": [
      "\n",
      "Statistical Tests:\n",
      "age: t-statistic = 7.5356, p-value = 0.0000\n",
      "trestbps: t-statistic = 4.4819, p-value = 0.0000\n",
      "chol: t-statistic = 3.2134, p-value = 0.0014\n",
      "thalach: t-statistic = -14.9265, p-value = 0.0000\n",
      "oldpeak: t-statistic = 15.6029, p-value = 0.0000\n"
     ]
    }
   ],
   "source": [
    "# Statistical tests\n",
    "print(\"\\nStatistical Tests:\")\n",
    "for col in numerical_cols:\n",
    "    t_stat, p_value = stats.ttest_ind(data[data['target'] == 0][col], \n",
    "                                      data[data['target'] == 1][col])\n",
    "    print(f\"{col}: t-statistic = {t_stat:.4f}, p-value = {p_value:.4f}\")"
   ]
  },
  {
   "cell_type": "code",
   "execution_count": null,
   "id": "7651b30c-9754-4d76-b30e-7f62c4fb11b3",
   "metadata": {},
   "outputs": [],
   "source": []
  }
 ],
 "metadata": {
  "kernelspec": {
   "display_name": "Python 3 (ipykernel)",
   "language": "python",
   "name": "python3"
  },
  "language_info": {
   "codemirror_mode": {
    "name": "ipython",
    "version": 3
   },
   "file_extension": ".py",
   "mimetype": "text/x-python",
   "name": "python",
   "nbconvert_exporter": "python",
   "pygments_lexer": "ipython3",
   "version": "3.11.7"
  }
 },
 "nbformat": 4,
 "nbformat_minor": 5
}
